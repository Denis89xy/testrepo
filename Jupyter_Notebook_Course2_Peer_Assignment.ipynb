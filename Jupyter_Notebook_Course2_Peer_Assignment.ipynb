{
 "cells": [
  {
   "cell_type": "markdown",
   "id": "5e61180f-c5bd-4116-b27e-ea8fd2efe9e4",
   "metadata": {},
   "source": [
    "# Course 2 Tools for Data Science - peer-graded assignment - This is the title"
   ]
  },
  {
   "cell_type": "markdown",
   "id": "1051f6f3-c1ec-4da8-935d-b47c1eec0fb5",
   "metadata": {},
   "source": [
    "**This is the introduction**"
   ]
  },
  {
   "cell_type": "markdown",
   "id": "91ac5e73-7c95-44c2-b7ff-e0ec3cc4187e",
   "metadata": {},
   "source": [
    "Data Science languages are: Python, R and SQL"
   ]
  },
  {
   "cell_type": "markdown",
   "id": "951c3492-1dd2-4524-8765-5b767294920e",
   "metadata": {},
   "source": [
    "Data Science libraries: (**Python**) Pandas, Tensorflow, Seaborn, Numpy etc."
   ]
  },
  {
   "cell_type": "markdown",
   "id": "35252e72-5694-4118-a97f-9b7d6e679c35",
   "metadata": {},
   "source": [
    "Data Science tools: IBM Watson studio, RStudio, Jupyter Notebook, etc."
   ]
  },
  {
   "cell_type": "markdown",
   "id": "cfd41f2a-eab3-4e63-bfbb-de2ff39eaf2d",
   "metadata": {},
   "source": [
    "Arithmetic operations: Addition 1 + 1, Substraction 1 - 1, Multiplication 1*1"
   ]
  },
  {
   "cell_type": "code",
   "execution_count": 1,
   "id": "72e36294-3ecd-421e-aa51-99cbd8d173a8",
   "metadata": {},
   "outputs": [
    {
     "name": "stdout",
     "output_type": "stream",
     "text": [
      "Addition:  2\n",
      "Multiplication:  6\n"
     ]
    }
   ],
   "source": [
    "#Code cell for addition and multiplication\n",
    "\n",
    "print(\"Addition: \", 1+1)\n",
    "print(\"Multiplication: \", 3*2)"
   ]
  },
  {
   "cell_type": "code",
   "execution_count": 2,
   "id": "889acf3d-845c-4c02-b6d9-5dc7cb5d59df",
   "metadata": {},
   "outputs": [
    {
     "name": "stdout",
     "output_type": "stream",
     "text": [
      "Hours 1 to Minutes 60\n"
     ]
    }
   ],
   "source": [
    "# Code cell for hours to minutes conversion\n",
    "\n",
    "def min_to_h(x):\n",
    "    return x*60\n",
    "\n",
    "h = 1\n",
    "m = min_to_h(h)\n",
    "print(\"Hours {0} to Minutes {1}\".format(h,m))"
   ]
  },
  {
   "cell_type": "markdown",
   "id": "cd7231b9-1541-49b1-8455-59692c8d3c0c",
   "metadata": {},
   "source": [
    "### Objectives\n",
    "\n",
    "Exercise 2 - Create a markdown cell with the title of the notebook. (1 pt)\n",
    "\n",
    "Exercise 3 - Create a markdown cell for an introduction. (1 pt)\n",
    "\n",
    "Exercise 4 - Create a markdown cell to list data science languages. (3 pts)\n",
    "\n",
    "Exercise 5 - Create a markdown cell to list data science libraries. (3 pts)\n",
    "\n",
    "Exercise 6 - Create a markdown cell with a table of Data Science tools. (3 pts)\n",
    "\n",
    "Exercise 7 - Create a markdown cell introducing arithmetic expression examples. (1 pt)\n",
    "\n",
    "Exercise 8 - Create a code cell to multiply and add numbers.(2 pts)\n",
    "\n",
    "Exercise 9 - Create a code cell to convert minutes to hours. (2 pts)\n",
    "\n",
    "Exercise 10 -Insert a markdown cell to list Objectives. (3 pts)\n",
    "\n",
    "Exercise 11 - Create a markdown cell to indicate the Author’s name. (2 pts)\n",
    "\n",
    "Exercise 12 - Share your notebook through GitHub (3 pts)\n",
    "\n",
    "Exercise 13 - Take a screenshot of the first page of the notebook. (1 pt)"
   ]
  },
  {
   "cell_type": "markdown",
   "id": "da79ebbb-e047-4ff8-adbb-6c1ba731a212",
   "metadata": {},
   "source": [
    "**Autor's name**:\n",
    "\n",
    "Denislav Hristov"
   ]
  },
  {
   "cell_type": "code",
   "execution_count": null,
   "id": "dcab624f-8c11-4663-8eb3-626386983ba9",
   "metadata": {},
   "outputs": [],
   "source": []
  }
 ],
 "metadata": {
  "kernelspec": {
   "display_name": "Python",
   "language": "python",
   "name": "conda-env-python-py"
  },
  "language_info": {
   "codemirror_mode": {
    "name": "ipython",
    "version": 3
   },
   "file_extension": ".py",
   "mimetype": "text/x-python",
   "name": "python",
   "nbconvert_exporter": "python",
   "pygments_lexer": "ipython3",
   "version": "3.7.12"
  }
 },
 "nbformat": 4,
 "nbformat_minor": 5
}
